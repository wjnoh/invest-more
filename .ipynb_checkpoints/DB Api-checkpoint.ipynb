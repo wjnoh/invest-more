{
 "cells": [
  {
   "cell_type": "code",
   "execution_count": 1,
   "metadata": {},
   "outputs": [],
   "source": [
    "import requests\n",
    "from bs4 import BeautifulSoup\n",
    "from html_table_parser import parser_functions as parser\n",
    "import pandas as pd\n",
    "import numpy as np\n",
    "import re\n",
    "import hgtk\n",
    "import datetime\n",
    "from time import sleep\n",
    "import inspect\n",
    "import sys\n",
    "import logging\n",
    "import schedule\n",
    "import time\n",
    "import os\n",
    "params = {'host':'localhost', 'dbname':'KISA', 'user':'postgres', 'pwd':'dpafhqh1!'}\n",
    "host = params['host']\n",
    "dbname = params['dbname']\n",
    "user = params['user']\n",
    "pwd = params['pwd']\n",
    "import psycopg2\n",
    "\n",
    "\n"
   ]
  },
  {
   "cell_type": "code",
   "execution_count": 2,
   "metadata": {},
   "outputs": [],
   "source": [
    "def return_json_form_df(data):\n",
    "    \n",
    "        json_list = []\n",
    "        for i in range(len(data)):\n",
    "            data_list = data.iloc[i].values.tolist()       \n",
    "            customer_dict = dict()\n",
    "            for j in range(len(data_list)):\n",
    "                customer_dict[data.columns[j]] = str(data_list[j])\n",
    "            json_list.append(customer_dict)\n",
    "        \n",
    "        return json_list"
   ]
  },
  {
   "cell_type": "code",
   "execution_count": 3,
   "metadata": {},
   "outputs": [],
   "source": [
    "def get_data_columns_and_data_sets(columns):\n",
    "    columns\n",
    "\n",
    "    a = '('\n",
    "\n",
    "    for i in columns:\n",
    "        a= a + str(i) + ','\n",
    "\n",
    "    data_columns = a[:-1]+')'\n",
    "\n",
    "\n",
    "    b = '('\n",
    "\n",
    "    for i in columns:\n",
    "        b = b + '%s' + ','\n",
    "\n",
    "    data_sets= b[:-1]+')'\n",
    "    return data_columns, data_sets\n",
    "\n",
    "\n",
    "\n",
    "    "
   ]
  },
  {
   "cell_type": "code",
   "execution_count": 4,
   "metadata": {},
   "outputs": [],
   "source": [
    "def insert_data(table_name, data, df_columns):\n",
    "    conn = psycopg2.connect('host={0} dbname={1} user={2} password={3}'.format(host, dbname, user, pwd))\n",
    "    cur = conn.cursor()   \n",
    "    data_df = pd.DataFrame(data, columns = df_columns)\n",
    "    data_columns, data_sets = get_data_columns_and_data_sets(df_columns)\n",
    "\n",
    "    ## 지정 필수!!!!\n",
    "    table_name = table_name\n",
    "    data = data_df\n",
    "    ##########\n",
    "\n",
    "    print(table_name +'꺼 넣기 시작 ' )\n",
    "    insert_data=  data.iloc[::-1].values.tolist()\n",
    "\n",
    "    for i in insert_data:\n",
    "        try:\n",
    "            i = [None if str(x) == str(np.nan) else x for x in i]\n",
    "            cur.execute(\"INSERT INTO \" + table_name + \" \" + data_columns + ' VALUES ' + data_sets , i) \n",
    "            print(str(i[0]))\n",
    "            conn.commit()\n",
    "        except Exception as e:\n",
    "            print(\"*******Error********\" + str(e))\n",
    "            print(\"error data : \" + str(i))\n",
    "            conn = psycopg2.connect('host={0} dbname={1} user={2} password={3}'.format(host, dbname, user, pwd))\n",
    "            cur = conn.cursor()\n",
    "            pass    \n",
    "    conn.commit()\n",
    "    print(table_name + str('꺼끝'))"
   ]
  },
  {
   "cell_type": "code",
   "execution_count": 5,
   "metadata": {},
   "outputs": [],
   "source": [
    "customer_product_columns = ['sign_up_cd', 'customer_cd', 'product_cd', 'balance']\n",
    "customer_columns = ['customer_cd', 'customer_nm',  'monthly_income', 'job', \n",
    "                                   'investment_propensity', 'recommendation']\n",
    "income_expenditure_columns = ['income_expenditure_cd', 'customer_cd',  'month', 'monthly_income', \n",
    "                                   'monthly_expenditure', 'balance']\n",
    "recommendation_columns = ['job', 'monthly_income', 'monthly_expenditure']\n",
    "product_columns = ['product_cd', 'volatility', 'interest_rate']\n",
    "expenditure_columns = ['payment_cd', 'month', 'customer_cd', 'expenditure']"
   ]
  },
  {
   "cell_type": "markdown",
   "metadata": {},
   "source": [
    "## 고객정보"
   ]
  },
  {
   "cell_type": "markdown",
   "metadata": {},
   "source": [
    "### 고객정보 가져오기"
   ]
  },
  {
   "cell_type": "code",
   "execution_count": 6,
   "metadata": {},
   "outputs": [],
   "source": [
    "## 고객정보 관련 api\n",
    "def get_customer_data_df():\n",
    "    '''고객의 정보 테이블\n",
    "       리턴 형식 : pd.DataFrame'''\n",
    "    table_name = 'investmore.customer'\n",
    "\n",
    "    conn = psycopg2.connect('host={0} dbname={1} user={2} password={3}'.format(host, dbname, user, pwd))\n",
    "    cur = conn.cursor()\n",
    "\n",
    "    cur.execute(\"SELECT * FROM  \"+table_name)\n",
    "    data = pd.DataFrame(cur.fetchall(), columns = customer_columns)\n",
    "    return data\n",
    "\n"
   ]
  },
  {
   "cell_type": "code",
   "execution_count": 7,
   "metadata": {},
   "outputs": [],
   "source": [
    "def get_customer_data_from_customer_cd(customer_cd):\n",
    "    try:\n",
    "        customer_cd = str(customer_cd)\n",
    "        '''고객정보 가져와서, 고객 코드로 데이터 조회'''\n",
    "        data = get_customer_data_df()\n",
    "        data = data[data['customer_cd'] == customer_cd]\n",
    "        data['accumulative_expenditure'] = get_accumulative_expenditure_of_customer_cd(customer_cd)\n",
    "        \n",
    "        if len(data) == 0:\n",
    "            raise ValueError('고객코드 조회 불가')\n",
    "        return return_json_form_df(data)\n",
    "    \n",
    "    except:\n",
    "        return {'error' : '올바르지 않은 데이터가 입력되었습니다'}\n",
    "    "
   ]
  },
  {
   "cell_type": "markdown",
   "metadata": {},
   "source": [
    "### 고객정보 입력"
   ]
  },
  {
   "cell_type": "code",
   "execution_count": 9,
   "metadata": {},
   "outputs": [],
   "source": [
    "def insert_customer_data(json_data):\n",
    "    table_name = 'investmore.customer'\n",
    "    \n",
    "    customer_columns = ['customer_cd', 'customer_nm',  'monthly_income', 'job', \n",
    "                                       'investment_propensity', 'recommendation']    \n",
    "    customer_cd = json_data['customer_cd']\n",
    "    customer_nm = json_data['customer_cd']\n",
    "    monthly_income = json_data['monthly_income']\n",
    "    job = json_data['job']\n",
    "    investment_propensity = json_data['investment_propensity']\n",
    "    if json_data['recommendation'] != None:\n",
    "        recommendation = json_data['recommendation']\n",
    "    else:\n",
    "        recommendation = get_recommendation_expenditure_from_job(job)\n",
    "    \n",
    "    data  = [[customer_cd, customer_nm, monthly_income, job, investment_propensity, recommendation]]\n",
    "    insert_data(table_name, data, customer_columns)    \n",
    "    "
   ]
  },
  {
   "cell_type": "markdown",
   "metadata": {},
   "source": [
    "#### test"
   ]
  },
  {
   "cell_type": "code",
   "execution_count": 10,
   "metadata": {},
   "outputs": [],
   "source": [
    "json_data = {'customer_cd' : '10230130123', 'customer_nm' : '홍길동', 'monthly_income' : '1202303', 'job' : '학생', 'investment_propensity' : '고위험', 'recommendation': None}"
   ]
  },
  {
   "cell_type": "code",
   "execution_count": 21,
   "metadata": {},
   "outputs": [
    {
     "name": "stdout",
     "output_type": "stream",
     "text": [
      "investmore.customer꺼 넣기 시작 \n",
      "10230130123\n",
      "investmore.customer꺼끝\n"
     ]
    }
   ],
   "source": [
    "insert_customer_data(json_data)"
   ]
  },
  {
   "cell_type": "markdown",
   "metadata": {},
   "source": [
    "============="
   ]
  },
  {
   "cell_type": "code",
   "execution_count": 12,
   "metadata": {},
   "outputs": [
    {
     "data": {
      "text/html": [
       "<div>\n",
       "<style scoped>\n",
       "    .dataframe tbody tr th:only-of-type {\n",
       "        vertical-align: middle;\n",
       "    }\n",
       "\n",
       "    .dataframe tbody tr th {\n",
       "        vertical-align: top;\n",
       "    }\n",
       "\n",
       "    .dataframe thead th {\n",
       "        text-align: right;\n",
       "    }\n",
       "</style>\n",
       "<table border=\"1\" class=\"dataframe\">\n",
       "  <thead>\n",
       "    <tr style=\"text-align: right;\">\n",
       "      <th></th>\n",
       "      <th>income_expenditure_cd</th>\n",
       "      <th>customer_cd</th>\n",
       "      <th>month</th>\n",
       "      <th>monthly_income</th>\n",
       "      <th>monthly_expenditure</th>\n",
       "      <th>balance</th>\n",
       "    </tr>\n",
       "  </thead>\n",
       "  <tbody>\n",
       "    <tr>\n",
       "      <th>0</th>\n",
       "      <td>B00006</td>\n",
       "      <td>1000000002</td>\n",
       "      <td>6</td>\n",
       "      <td>2500000</td>\n",
       "      <td>2900000</td>\n",
       "      <td>-400000</td>\n",
       "    </tr>\n",
       "    <tr>\n",
       "      <th>1</th>\n",
       "      <td>B00005</td>\n",
       "      <td>1000000002</td>\n",
       "      <td>5</td>\n",
       "      <td>2500000</td>\n",
       "      <td>2800000</td>\n",
       "      <td>-300000</td>\n",
       "    </tr>\n",
       "    <tr>\n",
       "      <th>2</th>\n",
       "      <td>B00004</td>\n",
       "      <td>1000000002</td>\n",
       "      <td>4</td>\n",
       "      <td>2500000</td>\n",
       "      <td>3000000</td>\n",
       "      <td>-500000</td>\n",
       "    </tr>\n",
       "    <tr>\n",
       "      <th>3</th>\n",
       "      <td>B00003</td>\n",
       "      <td>1000000001</td>\n",
       "      <td>6</td>\n",
       "      <td>800000</td>\n",
       "      <td>800000</td>\n",
       "      <td>200000</td>\n",
       "    </tr>\n",
       "    <tr>\n",
       "      <th>4</th>\n",
       "      <td>B00002</td>\n",
       "      <td>1000000001</td>\n",
       "      <td>5</td>\n",
       "      <td>800000</td>\n",
       "      <td>700000</td>\n",
       "      <td>200000</td>\n",
       "    </tr>\n",
       "    <tr>\n",
       "      <th>5</th>\n",
       "      <td>B00001</td>\n",
       "      <td>1000000001</td>\n",
       "      <td>4</td>\n",
       "      <td>800000</td>\n",
       "      <td>600000</td>\n",
       "      <td>200000</td>\n",
       "    </tr>\n",
       "  </tbody>\n",
       "</table>\n",
       "</div>"
      ],
      "text/plain": [
       "  income_expenditure_cd customer_cd  month  monthly_income  \\\n",
       "0                B00006  1000000002      6         2500000   \n",
       "1                B00005  1000000002      5         2500000   \n",
       "2                B00004  1000000002      4         2500000   \n",
       "3                B00003  1000000001      6          800000   \n",
       "4                B00002  1000000001      5          800000   \n",
       "5                B00001  1000000001      4          800000   \n",
       "\n",
       "   monthly_expenditure  balance  \n",
       "0              2900000  -400000  \n",
       "1              2800000  -300000  \n",
       "2              3000000  -500000  \n",
       "3               800000   200000  \n",
       "4               700000   200000  \n",
       "5               600000   200000  "
      ]
     },
     "execution_count": 12,
     "metadata": {},
     "output_type": "execute_result"
    }
   ],
   "source": [
    "def get_income_expenditure_df():\n",
    "    '''고객의 월별 수입과 지출내역 테이블\n",
    "       리턴 형식 : pd.DataFrame'''\n",
    "    table_name = 'investmore.income_expenditure'\n",
    "\n",
    "    conn = psycopg2.connect('host={0} dbname={1} user={2} password={3}'.format(host, dbname, user, pwd))\n",
    "    cur = conn.cursor()\n",
    "\n",
    "    cur.execute(\"SELECT * FROM  \"+table_name)\n",
    "    data = pd.DataFrame(cur.fetchall(), columns = income_expenditure_columns)\n",
    "    return data\n",
    "\n",
    "get_income_expenditure_df()\n",
    "\n"
   ]
  },
  {
   "cell_type": "code",
   "execution_count": 46,
   "metadata": {},
   "outputs": [],
   "source": [
    "def get_expenditure_from_customer_cd(customer_cd):\n",
    "    customer_cd = str(customer_cd)\n",
    "    data = get_income_expenditure_df()\n",
    "    data['customer_cd'] = data['customer_cd'].apply(lambda x : str(x))\n",
    "    \n",
    "    data = data[data['customer_cd'] == customer_cd]\n",
    "    expenditure = data.groupby('customer_cd')['monthly_expenditure'].mean().iloc[0]\n",
    "    return expenditure\n",
    "    "
   ]
  },
  {
   "cell_type": "code",
   "execution_count": 47,
   "metadata": {},
   "outputs": [
    {
     "data": {
      "text/plain": [
       "700000"
      ]
     },
     "execution_count": 47,
     "metadata": {},
     "output_type": "execute_result"
    }
   ],
   "source": [
    "get_expenditure_from_customer_cd(\"1000000001\")"
   ]
  },
  {
   "cell_type": "code",
   "execution_count": 13,
   "metadata": {
    "scrolled": true
   },
   "outputs": [],
   "source": [
    "def get_product_data_df():\n",
    "    '''상품정보 보여주는 테이블\n",
    "       리턴 형식 : pd.DataFrame'''\n",
    "    table_name = 'investmore.product'\n",
    "\n",
    "    conn = psycopg2.connect('host={0} dbname={1} user={2} password={3}'.format(host, dbname, user, pwd))\n",
    "    cur = conn.cursor()\n",
    "\n",
    "    cur.execute(\"SELECT * FROM  \"+table_name)\n",
    "    data = pd.DataFrame(cur.fetchall(), columns = product_columns)\n",
    "    return data"
   ]
  },
  {
   "cell_type": "code",
   "execution_count": 14,
   "metadata": {},
   "outputs": [
    {
     "data": {
      "text/plain": [
       "[{'volatility': '보통위험', 'interest_rate': '1.568400'},\n",
       " {'volatility': '매우높은위험', 'interest_rate': '6.651250'},\n",
       " {'volatility': '매우낮은위험', 'interest_rate': '0.720000'},\n",
       " {'volatility': '다소높은위험', 'interest_rate': '2.893556'},\n",
       " {'volatility': '높은위험', 'interest_rate': '2.762569'},\n",
       " {'volatility': '낮은위험', 'interest_rate': '0.952941'}]"
      ]
     },
     "execution_count": 14,
     "metadata": {},
     "output_type": "execute_result"
    }
   ],
   "source": [
    "data = get_product_data_df()\n",
    "data = data[['volatility', 'interest_rate']]\n",
    "\n",
    "return_json_form_df(data)"
   ]
  },
  {
   "cell_type": "markdown",
   "metadata": {},
   "source": [
    "## 적정 지출선 "
   ]
  },
  {
   "cell_type": "code",
   "execution_count": 15,
   "metadata": {},
   "outputs": [],
   "source": [
    "def get_recommendation_data_df():\n",
    "    '''적정 지출선, 수입선 보여주는 테이블\n",
    "    리턴 형식 : pd.DataFrame '''\n",
    "    table_name = 'investmore.recommendation'\n",
    "\n",
    "    conn = psycopg2.connect('host={0} dbname={1} user={2} password={3}'.format(host, dbname, user, pwd))\n",
    "    cur = conn.cursor()\n",
    "\n",
    "    cur.execute(\"SELECT * FROM  \"+table_name)\n",
    "    data = pd.DataFrame(cur.fetchall(), columns = recommendation_columns)\n",
    "    return data"
   ]
  },
  {
   "cell_type": "code",
   "execution_count": 32,
   "metadata": {},
   "outputs": [],
   "source": [
    "def get_recommendation_expenditure_from_monthly_income(monthly_income):\n",
    "    '''값이 있을 경우 int, 없을 땐 None'''\n",
    "    data = get_recommendation_data_df()\n",
    "    print(data)\n",
    "    data['monthly_income'] = data['monthly_income'].apply(lambda x : str(x))\n",
    "    data = data[data['monthly_income'] == str(monthly_income)]\n",
    "    print(data)\n",
    "    if len(data) == 0:\n",
    "        return None\n",
    "    else:\n",
    "        return data.iloc[0]['monthly_expenditure']"
   ]
  },
  {
   "cell_type": "code",
   "execution_count": 17,
   "metadata": {},
   "outputs": [],
   "source": [
    "def get_customer_product_data_df():\n",
    "    '''고객이 보유한 상품들 보여주는 테이블\n",
    "    리턴 형식 : pd.DataFrame'''\n",
    "    table_name = 'investmore.customer_product'\n",
    "\n",
    "    conn = psycopg2.connect('host={0} dbname={1} user={2} password={3}'.format(host, dbname, user, pwd))\n",
    "    cur = conn.cursor()\n",
    "\n",
    "    cur.execute(\"SELECT * FROM  \"+table_name)\n",
    "    data = pd.DataFrame(cur.fetchall(), columns = customer_product_columns)\n",
    "    return data"
   ]
  },
  {
   "cell_type": "code",
   "execution_count": 62,
   "metadata": {},
   "outputs": [
    {
     "data": {
      "text/html": [
       "<div>\n",
       "<style scoped>\n",
       "    .dataframe tbody tr th:only-of-type {\n",
       "        vertical-align: middle;\n",
       "    }\n",
       "\n",
       "    .dataframe tbody tr th {\n",
       "        vertical-align: top;\n",
       "    }\n",
       "\n",
       "    .dataframe thead th {\n",
       "        text-align: right;\n",
       "    }\n",
       "</style>\n",
       "<table border=\"1\" class=\"dataframe\">\n",
       "  <thead>\n",
       "    <tr style=\"text-align: right;\">\n",
       "      <th></th>\n",
       "      <th>sign_up_cd</th>\n",
       "      <th>customer_cd</th>\n",
       "      <th>product_cd</th>\n",
       "      <th>balance</th>\n",
       "    </tr>\n",
       "  </thead>\n",
       "  <tbody>\n",
       "    <tr>\n",
       "      <th>0</th>\n",
       "      <td>A00002</td>\n",
       "      <td>1000000002</td>\n",
       "      <td>1</td>\n",
       "      <td>2000000</td>\n",
       "    </tr>\n",
       "    <tr>\n",
       "      <th>1</th>\n",
       "      <td>A00001</td>\n",
       "      <td>1000000001</td>\n",
       "      <td>1</td>\n",
       "      <td>1000000</td>\n",
       "    </tr>\n",
       "  </tbody>\n",
       "</table>\n",
       "</div>"
      ],
      "text/plain": [
       "  sign_up_cd customer_cd product_cd  balance\n",
       "0     A00002  1000000002          1  2000000\n",
       "1     A00001  1000000001          1  1000000"
      ]
     },
     "execution_count": 62,
     "metadata": {},
     "output_type": "execute_result"
    }
   ],
   "source": [
    "def get_customer_balance_from_customer_cd(customer_cd):\n",
    "    customer_cd = str(customer_cd)\n",
    "    data = get_customer_product_data_df()\n",
    "    data['customer_cd'] = data['customer_cd'].apply(lambda x: str(x))\n",
    "    data =data[data['customer_cd'] == customer_cd]\n",
    "    balance = data.groupby('customer_cd')['balance'].sum().iloc[0]    \n",
    "    return balance"
   ]
  },
  {
   "cell_type": "code",
   "execution_count": 69,
   "metadata": {},
   "outputs": [
    {
     "data": {
      "text/plain": [
       "1000000"
      ]
     },
     "execution_count": 69,
     "metadata": {},
     "output_type": "execute_result"
    }
   ],
   "source": [
    "\n",
    "balance\n"
   ]
  },
  {
   "cell_type": "code",
   "execution_count": 18,
   "metadata": {},
   "outputs": [],
   "source": [
    "\n",
    "def get_expenditure_data_df():\n",
    "    ''' 모든 회원의 지출 내역 모두 확인\n",
    "    리턴 형식 : pd.Dataframe\n",
    "    '''\n",
    "    table_name = 'investmore.expenditure'\n",
    "\n",
    "    conn = psycopg2.connect('host={0} dbname={1} user={2} password={3}'.format(host, dbname, user, pwd))\n",
    "    cur = conn.cursor()\n",
    "\n",
    "    cur.execute(\"SELECT * FROM  \"+table_name)\n",
    "    data = pd.DataFrame(cur.fetchall(), columns = expenditure_columns)\n",
    "    return data"
   ]
  },
  {
   "cell_type": "code",
   "execution_count": 19,
   "metadata": {},
   "outputs": [],
   "source": [
    "def get_accumulative_expenditure_of_customer_cd(customer_cd):\n",
    "    '''\n",
    "    특정 회원의 모든 지출 내역\n",
    "    리턴 형식 : pd.DataFrame\n",
    "    '''\n",
    "    data = get_expenditure_data_df()\n",
    "    data['customer_cd'] = data['customer_cd'].apply(lambda x : str(x))\n",
    "#     print(data)\n",
    "#     print(customer_cd)\n",
    "    data = data[data['customer_cd']  == customer_cd]\n",
    "#     print(data)\n",
    "    if len(data) == 0:\n",
    "        return 0\n",
    "    else:\n",
    "        accumulative_expenditure = data.groupby('customer_cd')['expenditure'].sum().iloc[0]\n",
    "        return accumulative_expenditure"
   ]
  },
  {
   "cell_type": "code",
   "execution_count": 20,
   "metadata": {},
   "outputs": [
    {
     "name": "stdout",
     "output_type": "stream",
     "text": [
      "     payment_cd  month customer_cd  expenditure\n",
      "2  P00000000002      6  1000000001       400000\n",
      "3  P00000000001      6  1000000001       200000\n"
     ]
    },
    {
     "data": {
      "text/plain": [
       "600000"
      ]
     },
     "execution_count": 20,
     "metadata": {},
     "output_type": "execute_result"
    }
   ],
   "source": [
    "get_accumulative_expenditure_of_customer_cd('1000000001')"
   ]
  },
  {
   "cell_type": "code",
   "execution_count": 37,
   "metadata": {},
   "outputs": [
    {
     "data": {
      "text/plain": [
       "0"
      ]
     },
     "execution_count": 37,
     "metadata": {},
     "output_type": "execute_result"
    }
   ],
   "source": [
    "60000 - (60000%100000)"
   ]
  },
  {
   "cell_type": "code",
   "execution_count": null,
   "metadata": {},
   "outputs": [],
   "source": []
  }
 ],
 "metadata": {
  "kernelspec": {
   "display_name": "Python 3",
   "language": "python",
   "name": "python3"
  },
  "language_info": {
   "codemirror_mode": {
    "name": "ipython",
    "version": 3
   },
   "file_extension": ".py",
   "mimetype": "text/x-python",
   "name": "python",
   "nbconvert_exporter": "python",
   "pygments_lexer": "ipython3",
   "version": "3.7.1"
  }
 },
 "nbformat": 4,
 "nbformat_minor": 2
}
