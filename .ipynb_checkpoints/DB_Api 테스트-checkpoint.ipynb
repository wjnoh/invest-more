{
 "cells": [
  {
   "cell_type": "code",
   "execution_count": 13,
   "metadata": {},
   "outputs": [],
   "source": [
    "from investmore_db_api import *\n",
    "from flask import Flask, jsonify, request\n",
    "\n"
   ]
  },
  {
   "cell_type": "code",
   "execution_count": 2,
   "metadata": {},
   "outputs": [],
   "source": [
    "def return_json_form_df(data):\n",
    "    \n",
    "        json_list = []\n",
    "        for i in range(len(data)):\n",
    "            data_list = data.iloc[i].values.tolist()       \n",
    "            customer_dict = dict()\n",
    "            for j in range(len(data_list)):\n",
    "                customer_dict[data.columns[j]] = str(data_list[j])\n",
    "            json_list.append(customer_dict)\n",
    "        \n",
    "        return json_list"
   ]
  },
  {
   "cell_type": "code",
   "execution_count": 19,
   "metadata": {},
   "outputs": [
    {
     "data": {
      "text/plain": [
       "50"
      ]
     },
     "execution_count": 19,
     "metadata": {},
     "output_type": "execute_result"
    }
   ],
   "source": [
    "56-(56%10)"
   ]
  },
  {
   "cell_type": "code",
   "execution_count": 17,
   "metadata": {},
   "outputs": [
    {
     "data": {
      "text/plain": [
       "[{'customer_cd': '1000000001',\n",
       "  'customer_nm': '김소주',\n",
       "  'monthly_income': '800000',\n",
       "  'job': '대학생',\n",
       "  'investment_propensity': '고위험',\n",
       "  'recommendation': '500000'}]"
      ]
     },
     "execution_count": 17,
     "metadata": {},
     "output_type": "execute_result"
    }
   ],
   "source": [
    "get_customer_data_from_customer_cd('1000000001')"
   ]
  },
  {
   "cell_type": "code",
   "execution_count": 6,
   "metadata": {},
   "outputs": [],
   "source": [
    "json_data = return_json_form_df(get_customer_data_df())"
   ]
  },
  {
   "cell_type": "code",
   "execution_count": 7,
   "metadata": {},
   "outputs": [
    {
     "data": {
      "text/plain": [
       "[{'customer_cd': '1000000002',\n",
       "  'customer_nm': '김탕진',\n",
       "  'monthly_income': '2500000',\n",
       "  'job': '직장인',\n",
       "  'investment_propensity': '저위험',\n",
       "  'recommendation': '1000000'},\n",
       " {'customer_cd': '1000000001',\n",
       "  'customer_nm': '김소주',\n",
       "  'monthly_income': '800000',\n",
       "  'job': '대학생',\n",
       "  'investment_propensity': '고위험',\n",
       "  'recommendation': '500000'}]"
      ]
     },
     "execution_count": 7,
     "metadata": {},
     "output_type": "execute_result"
    }
   ],
   "source": [
    "json_data"
   ]
  },
  {
   "cell_type": "code",
   "execution_count": null,
   "metadata": {},
   "outputs": [],
   "source": []
  }
 ],
 "metadata": {
  "kernelspec": {
   "display_name": "Python 3",
   "language": "python",
   "name": "python3"
  },
  "language_info": {
   "codemirror_mode": {
    "name": "ipython",
    "version": 3
   },
   "file_extension": ".py",
   "mimetype": "text/x-python",
   "name": "python",
   "nbconvert_exporter": "python",
   "pygments_lexer": "ipython3",
   "version": "3.7.1"
  }
 },
 "nbformat": 4,
 "nbformat_minor": 2
}
